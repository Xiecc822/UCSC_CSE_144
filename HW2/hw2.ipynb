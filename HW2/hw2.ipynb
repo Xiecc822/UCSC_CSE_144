{
 "cells": [
  {
   "cell_type": "markdown",
   "id": "1f7ce326",
   "metadata": {},
   "source": [
    "# Applied Machine Learning - Homework Assignment"
   ]
  },
  {
   "cell_type": "markdown",
   "id": "ce3467cf",
   "metadata": {},
   "source": [
    "\n",
    "## Instructions\n",
    "- Please complete all tasks including coding implementations and theoretical explanations.\n",
    "- Submit the completed notebook as a `.ipynb` file.\n",
    "- Ensure that all code runs correctly.\n",
    "- Replace the placeholder comments with your own implementation.\n",
    "\n",
    "# Detailed Rubric \n",
    "\n",
    "This rubric outlines the criteria for evaluating the Assignment. Each section is assigned a score, with a total of 70 points.\n",
    "\n",
    "---\n",
    "\n",
    "## 1. PyTorch Basics (10 Points)\n",
    "| Criteria | Points | Description |\n",
    "|----------|--------|-------------|\n",
    "| Tensor Creation and Operations | 5 | Correctly implements tensor creation, transposition, mean, cumulative sum, and concatenation. |\n",
    "| Device Management (CPU/GPU) | 5 | Moves tensor to GPU if available and verifies the device assignment. |\n",
    "\n",
    "---\n",
    "\n",
    "## 2. Implementing a Feedforward Neural Network (15 Points)\n",
    "| Criteria | Points | Description |\n",
    "|----------|--------|-------------|\n",
    "| Model Definition | 5 | Defines the neural network structure correctly with fully connected layers. |\n",
    "| Activation Functions | 5 | Uses appropriate activation functions (Sigmoid, Softmax). |\n",
    "| Correct Forward Pass | 5 | Implements the forward function correctly, including reshaping input data. |\n",
    "\n",
    "---\n",
    "\n",
    "\n",
    "## 3. Gradient Descent and Optimization (15 Points)\n",
    "| Criteria | Points | Description |\n",
    "|----------|--------|-------------|\n",
    "| Manual Gradient Descent Implementation | 10 | Implements manual gradient descent for optimizing a simple function. Correctly calculates gradients and updates parameters. |\n",
    "| Gradient Resetting | 5 | Ensures proper resetting of gradients after each update step. |\n",
    "\n",
    "---\n",
    "\n",
    "## 4. Activation Function Visualization (10 Points)\n",
    "| Criteria | Points | Description |\n",
    "|----------|--------|-------------|\n",
    "| Plotting Activation Functions | 5 | Correctly plots Sigmoid, Tanh, and ReLU activation functions. |\n",
    "| Functionality & Code Clarity | 5 | Uses correct formulas and appropriate range of input values for visualization. |\n",
    "\n",
    "---\n",
    "\n",
    "## 5. Dropout Regularization (10 Points)\n",
    "| Criteria | Points | Description |\n",
    "|----------|--------|-------------|\n",
    "| Implementation of Dropout Layers | 5 | Correctly integrates `nn.Dropout()` layers into the neural network. |\n",
    "| Forward Pass with Dropout | 5 | Ensures dropout is applied only during training, and scales weights appropriately during inference. |\n",
    "\n",
    "---\n",
    "\n",
    "## 6. Momentum-based Gradient Descent (10 Points)\n",
    "| Criteria | Points | Description |\n",
    "|----------|--------|-------------|\n",
    "| Momentum Optimization Implementation | 5 | Correctly implements momentum-based gradient descent. |\n",
    "| Velocity Update & Weight Adjustment | 5 | Uses the correct momentum update formula and properly updates parameters. |\n",
    "\n",
    "---\n"
   ]
  },
  {
   "cell_type": "markdown",
   "id": "ff37af82",
   "metadata": {},
   "source": [
    "## Section 1: PyTorch Basics"
   ]
  },
  {
   "cell_type": "markdown",
   "id": "4414158a",
   "metadata": {},
   "source": [
    "\n",
    "### Q1: Tensor Operations\n",
    "In this section, you will create and manipulate PyTorch tensors, including operations such as transposing, computing means, cumulative sums, and concatenations.\n"
   ]
  },
  {
   "cell_type": "code",
   "execution_count": 9,
   "id": "860fd27f",
   "metadata": {},
   "outputs": [
    {
     "name": "stdout",
     "output_type": "stream",
     "text": [
      "Original Tensor:\n",
      " tensor([[0.3426, 0.9462, 0.4191],\n",
      "        [0.8016, 0.7461, 0.1693],\n",
      "        [0.1443, 0.2629, 0.7188]])\n",
      "Transposed Tensor:\n",
      " tensor([[0.3426, 0.8016, 0.1443],\n",
      "        [0.9462, 0.7461, 0.2629],\n",
      "        [0.4191, 0.1693, 0.7188]])\n",
      "Mean: tensor(0.5057)\n",
      "Cumulative Sum:\n",
      " tensor([[0.3426, 1.2888, 1.7079],\n",
      "        [0.8016, 1.5477, 1.7170],\n",
      "        [0.1443, 0.4072, 1.1260]])\n",
      "Concatenated Tensor:\n",
      " tensor([[0.3426, 0.9462, 0.4191],\n",
      "        [0.8016, 0.7461, 0.1693],\n",
      "        [0.1443, 0.2629, 0.7188],\n",
      "        [0.1785, 0.9920, 0.8299],\n",
      "        [0.3502, 0.6046, 0.2777],\n",
      "        [0.9838, 0.4775, 0.8233]])\n",
      "Tensor on Device: cuda:0\n"
     ]
    }
   ],
   "source": [
    "\n",
    "import torch\n",
    "\n",
    "#========== YOUR CODE STARTS HERE ==========\n",
    "\n",
    "# Create a 3x3 random tensor\n",
    "\n",
    "tensor = torch.rand((3, 3))\n",
    "print(\"Original Tensor:\\n\", tensor)\n",
    "\n",
    "# Transpose the tensor\n",
    "\n",
    "tensor_transposed = tensor.t()\n",
    "print(\"Transposed Tensor:\\n\", tensor_transposed)\n",
    "\n",
    "# Compute mean and cumulative sum\n",
    "\n",
    "mean_val = torch.mean(tensor)\n",
    "cumulative_sum = torch.cumsum(tensor, dim = 1)\n",
    "print(\"Mean:\", mean_val)\n",
    "print(\"Cumulative Sum:\\n\", cumulative_sum)\n",
    "\n",
    "# Concatenate two tensors\n",
    "\n",
    "tensor2 = torch.rand((3, 3))\n",
    "concatenated = torch.cat((tensor, tensor2), dim = 0)\n",
    "print(\"Concatenated Tensor:\\n\", concatenated)\n",
    "\n",
    "# Move tensor to GPU if available\n",
    "\n",
    "device = torch.device(\"cuda\" if torch.cuda.is_available() else \"cpu\")\n",
    "tensor = tensor.to(device)\n",
    "print(\"Tensor on Device:\", tensor.device)\n",
    "\n",
    "#========== YOUR CODE ENDS HERE ===========\n"
   ]
  },
  {
   "cell_type": "markdown",
   "id": "24b14b3a",
   "metadata": {},
   "source": [
    "## Section 2: Neural Networks in PyTorch"
   ]
  },
  {
   "cell_type": "markdown",
   "id": "19fa8d63",
   "metadata": {},
   "source": [
    "\n",
    "### Q2: Implementing a Feedforward Neural Network\n",
    "Define a fully connected neural network with two hidden layers using Sigmoid activation and a Softmax output layer.\n"
   ]
  },
  {
   "cell_type": "code",
   "execution_count": 10,
   "id": "5046d9bb",
   "metadata": {},
   "outputs": [
    {
     "name": "stdout",
     "output_type": "stream",
     "text": [
      "NeuralNetwork(\n",
      "  (fc1): Linear(in_features=784, out_features=128, bias=True)\n",
      "  (fc2): Linear(in_features=128, out_features=64, bias=True)\n",
      "  (fc3): Linear(in_features=64, out_features=10, bias=True)\n",
      "  (sigmoid): Sigmoid()\n",
      "  (softmax): Softmax(dim=1)\n",
      ")\n"
     ]
    }
   ],
   "source": [
    "\n",
    "import torch.nn as nn\n",
    "\n",
    "\n",
    "\n",
    "class NeuralNetwork(nn.Module):\n",
    "    def __init__(self):\n",
    "        super(NeuralNetwork, self).__init__()\n",
    "        #========== YOUR CODE STARTS HERE ==========\n",
    "        # Define layers\n",
    "        self.fc1 = nn.Linear(784, 128)\n",
    "        self.fc2 = nn.Linear(128, 64)\n",
    "        self.fc3 = nn.Linear(64, 10)\n",
    "\n",
    "        self.sigmoid = nn.Sigmoid()\n",
    "\n",
    "        self.softmax = nn.Softmax(dim = 1)\n",
    "\n",
    "\n",
    "        #========== YOUR CODE ENDS HERE ===========\n",
    "    def forward(self, x):\n",
    "        #========== YOUR CODE STARTS HERE ==========\n",
    "        x = x.view(x.size(0), -1)\n",
    "        # Define forward pass\n",
    "        x = self.sigmoid(self.fc1(x))\n",
    "        x = self.sigmoid(self.fc2(x))\n",
    "        x = self.fc3(x)\n",
    "        x = self.softmax(x)\n",
    "        #========== YOUR CODE ENDS HERE ===========\n",
    "        return x\n",
    "\n",
    "\n",
    "#========== YOUR CODE STARTS HERE ==========\n",
    "# Instantiate model\n",
    "model = NeuralNetwork()\n",
    "#========== YOUR CODE ENDS HERE ===========\n",
    "\n",
    "print(model)\n",
    "\n"
   ]
  },
  {
   "cell_type": "markdown",
   "id": "530bdf50",
   "metadata": {},
   "source": [
    "## Section 3: Gradient Descent and Optimization"
   ]
  },
  {
   "cell_type": "markdown",
   "id": "ff404c89",
   "metadata": {},
   "source": [
    "\n",
    "### Q3: Manual Gradient Descent\n",
    "Implement gradient descent manually to optimize a simple quadratic function.\n"
   ]
  },
  {
   "cell_type": "code",
   "execution_count": 11,
   "id": "75e5ccf0",
   "metadata": {},
   "outputs": [
    {
     "name": "stdout",
     "output_type": "stream",
     "text": [
      "Optimized Theta: 2.7347609996795654\n"
     ]
    }
   ],
   "source": [
    "\n",
    "\n",
    "\n",
    "learning_rate = 0.01\n",
    "theta = torch.tensor([1.0], requires_grad=True)\n",
    "for i in range(100):\n",
    "#========== YOUR CODE STARTS HERE ==========\n",
    "    # Compute loss\n",
    "    loss = (theta - 3) ** 2\n",
    "    \n",
    "    # Compute gradient\n",
    "    loss.backward()\n",
    "    \n",
    "    # Update theta\n",
    "    with torch.no_grad():\n",
    "        theta -= learning_rate * theta.grad\n",
    "    \n",
    "    # Reset gradient\n",
    "    theta.grad.zero_()\n",
    "#========== YOUR CODE ENDS HERE ===========\n",
    "print(\"Optimized Theta:\", theta.item())\n",
    "\n",
    "\n"
   ]
  },
  {
   "cell_type": "markdown",
   "id": "3dfc8d69",
   "metadata": {},
   "source": [
    "## Section 4: Activation Functions"
   ]
  },
  {
   "cell_type": "markdown",
   "id": "76d1a5f1",
   "metadata": {},
   "source": [
    "\n",
    "### Q4: Activation Function Visualization\n",
    "Plot different activation functions to understand their behavior.\n"
   ]
  },
  {
   "cell_type": "code",
   "execution_count": 13,
   "id": "fd142cc2",
   "metadata": {},
   "outputs": [
    {
     "data": {
      "image/png": "[encoded data removed]",
      "text/plain": [
       "<Figure size 640x480 with 1 Axes>"
      ]
     },
     "metadata": {},
     "output_type": "display_data"
    },
    {
     "data": {
      "image/png": "[encoded data removed]",
      "text/plain": [
       "<Figure size 640x480 with 1 Axes>"
      ]
     },
     "metadata": {},
     "output_type": "display_data"
    },
    {
     "data": {
      "image/png": "[encoded data removed]",
      "text/plain": [
       "<Figure size 640x480 with 1 Axes>"
      ]
     },
     "metadata": {},
     "output_type": "display_data"
    }
   ],
   "source": [
    "\n",
    "import matplotlib.pyplot as plt\n",
    "import numpy as np\n",
    "\n",
    "\n",
    "\n",
    "def plot_activation_function(func, x_range=(-5, 5)):\n",
    "    x = torch.linspace(*x_range, 100)\n",
    "    #========== YOUR CODE STARTS HERE ==========\n",
    "    # compute the activation function output\n",
    "    y = func(x)\n",
    "    \n",
    "    #========== YOUR CODE ENDS HERE ===========\n",
    "    plt.plot(x.numpy(), y.numpy(), label=func.__name__)\n",
    "    plt.legend()\n",
    "    plt.show()\n",
    "    \n",
    "#========== YOUR CODE STARTS HERE ==========\n",
    "\n",
    "# Sigmoid\n",
    "plot_activation_function(torch.sigmoid)\n",
    "\n",
    "# Tanh\n",
    "plot_activation_function(torch.tanh)\n",
    "\n",
    "# ReLU\n",
    "plot_activation_function(torch.nn.functional.relu)\n",
    "\n",
    "#========== YOUR CODE ENDS HERE ===========\n"
   ]
  },
  {
   "cell_type": "markdown",
   "id": "da8859d7",
   "metadata": {},
   "source": [
    "## Section 5: Dropout Regularization"
   ]
  },
  {
   "cell_type": "markdown",
   "id": "4e5d8fee",
   "metadata": {},
   "source": [
    "\n",
    "### Q5: Dropout Regularization\n",
    "Implement dropout in a neural network to reduce overfitting.\n"
   ]
  },
  {
   "cell_type": "code",
   "execution_count": 14,
   "id": "c49f7019",
   "metadata": {},
   "outputs": [
    {
     "name": "stdout",
     "output_type": "stream",
     "text": [
      "DropoutNeuralNetwork(\n",
      "  (fc1): Linear(in_features=784, out_features=128, bias=True)\n",
      "  (dropout1): Dropout(p=0.5, inplace=False)\n",
      "  (fc2): Linear(in_features=128, out_features=64, bias=True)\n",
      "  (dropout2): Dropout(p=0.5, inplace=False)\n",
      "  (fc3): Linear(in_features=64, out_features=10, bias=True)\n",
      "  (sigmoid): Sigmoid()\n",
      "  (softmax): Softmax(dim=1)\n",
      ")\n"
     ]
    }
   ],
   "source": [
    "\n",
    "#========== YOUR CODE STARTS HERE ==========\n",
    "\n",
    "class DropoutNeuralNetwork(nn.Module):\n",
    "    def __init__(self):\n",
    "        super(DropoutNeuralNetwork, self).__init__()\n",
    "        # Define layers with dropout\n",
    "        self.fc1 = nn.Linear(784, 128)\n",
    "        self.dropout1 = nn.Dropout(0.5)\n",
    "        self.fc2 = nn.Linear(128, 64)\n",
    "        self.dropout2 = nn.Dropout(0.5)\n",
    "        self.fc3 = nn.Linear(64, 10)\n",
    "\n",
    "        # Activation functions\n",
    "        self.sigmoid = nn.Sigmoid()\n",
    "        self.softmax = nn.Softmax(dim = 1)\n",
    "\n",
    "    def forward(self, x):\n",
    "\n",
    "        x = x.view(x.size(0), -1)\n",
    "\n",
    "        x = self.sigmoid(self.fc1(x))\n",
    "        x = self.dropout1(x)\n",
    "\n",
    "        x = self.sigmoid(self.fc2(x))\n",
    "        x = self.dropout2(x)\n",
    "\n",
    "        x = self.fc3(x)\n",
    "        x = self.softmax(x)\n",
    "        \n",
    "        return x\n",
    "\n",
    "# Instantiate dropout model\n",
    "model_dropout = DropoutNeuralNetwork()\n",
    "\n",
    "#========== YOUR CODE ENDS HERE ===========\n",
    "print(model_dropout)"
   ]
  },
  {
   "cell_type": "markdown",
   "id": "1c2cb4e6",
   "metadata": {},
   "source": [
    "## Section 6: Momentum-based Gradient Descent"
   ]
  },
  {
   "cell_type": "markdown",
   "id": "e10241f7",
   "metadata": {},
   "source": [
    "\n",
    "### Q6: Momentum-based Optimization\n",
    "Implement the momentum version of gradient descent.\n"
   ]
  },
  {
   "cell_type": "code",
   "execution_count": 15,
   "id": "fd145f12",
   "metadata": {},
   "outputs": [
    {
     "name": "stdout",
     "output_type": "stream",
     "text": [
      "Optimized Theta with Momentum: 2.991543769836426\n"
     ]
    }
   ],
   "source": [
    "\n",
    "#========== YOUR CODE STARTS HERE ==========\n",
    "\n",
    "def momentum_gradient_descent():\n",
    "    theta = torch.tensor([1.0], requires_grad=True)\n",
    "    velocity = torch.tensor([0.0])\n",
    "    mu = 0.9\n",
    "    alpha = 0.01\n",
    "    for i in range(100):\n",
    "        # Compute loss\n",
    "        loss = (theta - 3) ** 2\n",
    "        \n",
    "        # Compute gradient\n",
    "        loss.backward()\n",
    "        \n",
    "        # Update velocity\n",
    "        with torch.no_grad():\n",
    "            velocity = mu * velocity - alpha * theta.grad\n",
    "\n",
    "            # Update theta\n",
    "            theta += velocity\n",
    "        \n",
    "        # Reset gradient\n",
    "        theta.grad.zero_()\n",
    "\n",
    "    print(\"Optimized Theta with Momentum:\", theta.item())\n",
    "\n",
    "momentum_gradient_descent()\n",
    "\n",
    "#========== YOUR CODE ENDS HERE ===========\n"
   ]
  },
  {
   "cell_type": "code",
   "execution_count": null,
   "id": "8f5f4597-6344-45da-a4e2-f45352deb32e",
   "metadata": {},
   "outputs": [],
   "source": []
  }
 ],
 "metadata": {
  "kernelspec": {
   "display_name": "Python 3 (ipykernel)",
   "language": "python",
   "name": "python3"
  },
  "language_info": {
   "codemirror_mode": {
    "name": "ipython",
    "version": 3
   },
   "file_extension": ".py",
   "mimetype": "text/x-python",
   "name": "python",
   "nbconvert_exporter": "python",
   "pygments_lexer": "ipython3",
   "version": "3.12.3"
  }
 },
 "nbformat": 4,
 "nbformat_minor": 5
}
