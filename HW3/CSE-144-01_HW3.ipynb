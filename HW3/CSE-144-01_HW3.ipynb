{
 "cells": [
  {
   "cell_type": "markdown",
   "metadata": {},
   "source": [
    "# CSE-144-01 - 2025 Winter - HW 3"
   ]
  },
  {
   "cell_type": "markdown",
   "metadata": {},
   "source": [
    "## Instruction\n",
    "\n",
    "- Submit your assignments onto **Canvas** by the due date. Upload a singel `.ipynb` file with all the necessary output.\n",
    "- Don't change the input and output structure of pre-defined functions. Only write your code between `YOUR CODE STARTS HERE` and `YOUR CODE ENDS HERE`. You won't get the points if you alter the code outside these two dividing lines. Most coding parts can be finished with about 5-6 lines of codes.\n",
    "- Make sure you have installed required packages imported in the first code block.\n",
    "\n",
    "## Rubric\n",
    "\n",
    "The assignment is worth 40pts in total:\n",
    "- Data Augmentation and Normalization (3pts)\n",
    "    - Augmentation (2pts)\n",
    "    - Normalization (1pt)\n",
    "- Model (9pts)\n",
    "    - Initialize weights and biases (2pts)\n",
    "    - ReLU (1pt)\n",
    "    - Softmax (2pt)\n",
    "    - Forward (4pt)\n",
    "- Optimization Targets (11pts)\n",
    "    - Cross-Entrophy Loss (2pts)\n",
    "    - Back-Propagation for Cross-Entrophy Loss (5pts)\n",
    "    - L2 Regularization (2pts)\n",
    "    - Back-Propagation for L2 Regularization (2pts)\n",
    "- SGD Optimizer (1pt)\n",
    "- Trainer (11pt)\n",
    "    - `train` (8pts)\n",
    "        - Shuffle the training set before each epoch (2pts)\n",
    "        - Get the batch data (1pt)\n",
    "        - Apply augmentation and normalization (1pt)\n",
    "        - Add l2 regularization to the loss (1pt)\n",
    "        - Compute gradient from Cross-Entrophy Loss (1pt)\n",
    "        - Add L2 gradients if regularization is applied (1pt)\n",
    "        - Update parameters using the optimizer (1pt)\n",
    "    - `evaluate` (3pts)\n",
    "        - Only do normalization when testing on validation or test set (1pt)\n",
    "        - Compute Cross-Entrophy Loss and L2 Regularization if needed (1pt)\n",
    "        - Compute accuracy (1pt)\n",
    "- Training (6pts)\n",
    "    - Model Definition (1pt)\n",
    "    - Hyper-Parameters Tuning (5pts)\n",
    "- Training with SGD + Momentum (9pts)\n",
    "    - SGD + Momentum (4pts)\n",
    "    - Hyper-Parameters Tuning (5pts)"
   ]
  },
  {
   "cell_type": "code",
   "execution_count": 183,
   "metadata": {},
   "outputs": [],
   "source": [
    "import random\n",
    "import matplotlib.pyplot as plt\n",
    "import numpy as np\n",
    "import os\n",
    "import urllib\n",
    "import os\n",
    "from tqdm import tqdm\n",
    "\n",
    "SEED = 42\n",
    "random.seed(SEED)\n",
    "np.random.seed(SEED)"
   ]
  },
  {
   "cell_type": "markdown",
   "metadata": {},
   "source": [
    "## Data Preparation"
   ]
  },
  {
   "cell_type": "code",
   "execution_count": 184,
   "metadata": {},
   "outputs": [],
   "source": [
    "# Function to download the MNIST dataset (npz format)\n",
    "def download_mnist():\n",
    "    url = \"https://storage.googleapis.com/tensorflow/tf-keras-datasets/mnist.npz\"\n",
    "    file_path = \"mnist.npz\"\n",
    "    if not os.path.exists(file_path):\n",
    "        urllib.request.urlretrieve(url, file_path)\n",
    "    mnist_data = np.load(file_path)\n",
    "    return mnist_data['x_train'], mnist_data['y_train'], mnist_data['x_test'], mnist_data['y_test']"
   ]
  },
  {
   "cell_type": "code",
   "execution_count": 185,
   "metadata": {},
   "outputs": [],
   "source": [
    "# Load the MNIST dataset\n",
    "x_train, y_train, x_test, y_test = download_mnist()\n",
    "x_train, x_val = x_train[:50000], x_train[50000:]\n",
    "y_train, y_val = y_train[:50000], y_train[50000:]"
   ]
  },
  {
   "cell_type": "code",
   "execution_count": 186,
   "metadata": {},
   "outputs": [
    {
     "data": {
      "image/png": "[encoded data removed]",
      "text/plain": [
       "<Figure size 1000x300 with 5 Axes>"
      ]
     },
     "metadata": {},
     "output_type": "display_data"
    }
   ],
   "source": [
    "# Visualize some original and augmented images\n",
    "plt.figure(figsize=(10, 3))\n",
    "for i, original in enumerate(x_train[:5]):\n",
    "    # Original image\n",
    "    plt.subplot(1, 5, i + 1)\n",
    "    plt.imshow(original, cmap='gray')\n",
    "    plt.title(\"Original\")\n",
    "    plt.axis(\"off\")\n",
    "\n",
    "plt.tight_layout()\n",
    "plt.show()"
   ]
  },
  {
   "cell_type": "markdown",
   "metadata": {},
   "source": [
    "## Data Augmentation and Normalization (3pts)\n",
    "For now, we just implement the these functions.\n",
    "\n",
    "We will apply data augmentation to the training data during training to increase data diversity.\n",
    "\n",
    "Also it is common to apply normalization after augmentation since many augmentation methods especially color-related ones need to be done at the RGB color space."
   ]
  },
  {
   "cell_type": "markdown",
   "metadata": {},
   "source": [
    "### Augmentation (2pts)"
   ]
  },
  {
   "cell_type": "code",
   "execution_count": 187,
   "metadata": {},
   "outputs": [],
   "source": [
    "# Horizontally flip each image at the given probability\n",
    "def augment_images(images, prob=0.5):\n",
    "    augmented_images = []\n",
    "    for image in images:\n",
    "        # Note: don't change the `image` in-place\n",
    "        # ========== YOUR CODE STARTS HERE ==========\n",
    "        if random.random() < prob:\n",
    "            augmented_images.append(np.fliplr(image))\n",
    "        else:\n",
    "            augmented_images.append(image.copy())\n",
    "        # ========== YOUR CODE ENDS HERE ============\n",
    "\n",
    "    return np.array(augmented_images)"
   ]
  },
  {
   "cell_type": "code",
   "execution_count": 188,
   "metadata": {},
   "outputs": [
    {
     "data": {
      "image/png": "[encoded data removed]",
      "text/plain": [
       "<Figure size 1000x500 with 10 Axes>"
      ]
     },
     "metadata": {},
     "output_type": "display_data"
    }
   ],
   "source": [
    "# Visualize some original and augmented images\n",
    "plt.figure(figsize=(10, 5))\n",
    "for i, (original, augmented) in enumerate(zip(x_train[:5], augment_images(x_train)[:5])):\n",
    "    # Original image\n",
    "    plt.subplot(2, 5, i + 1)\n",
    "    plt.imshow(original, cmap='gray')\n",
    "    plt.title(\"Original\")\n",
    "    plt.axis(\"off\")\n",
    "\n",
    "    # Augmented image\n",
    "    plt.subplot(2, 5, i + 1 + 5)\n",
    "    plt.imshow(augmented, cmap='gray')\n",
    "    plt.title(\"Augmented\")\n",
    "    plt.axis(\"off\")\n",
    "plt.tight_layout()\n",
    "plt.show()"
   ]
  },
  {
   "cell_type": "markdown",
   "metadata": {},
   "source": [
    "### Normalization (1pt)\n",
    "Apply range normalization to scale all pixel values to the range [-0.5, 0.5]."
   ]
  },
  {
   "cell_type": "code",
   "execution_count": 189,
   "metadata": {},
   "outputs": [],
   "source": [
    "def normalize_images(images):\n",
    "    # ========== YOUR CODE STARTS HERE ==========\n",
    "    return images.astype(np.float32) / 255.0 - 0.5\n",
    "    # ========== YOUR CODE ENDS HERE ============"
   ]
  },
  {
   "cell_type": "code",
   "execution_count": 190,
   "metadata": {},
   "outputs": [],
   "source": [
    "assert normalize_images(x_train).max() <= 0.5\n",
    "assert normalize_images(x_train).min() >= -0.5"
   ]
  },
  {
   "cell_type": "markdown",
   "metadata": {},
   "source": [
    "## Model (9pts)"
   ]
  },
  {
   "cell_type": "code",
   "execution_count": 191,
   "metadata": {},
   "outputs": [],
   "source": [
    "class FullyConnectedNetwork:\n",
    "    def __init__(self, input_size, hidden_size, output_size):\n",
    "        # Initialize weights and biases for input-to-hidden and hidden-to-output layers. (2pts)\n",
    "        # ========== YOUR CODE STARTS HERE ==========\n",
    "        self.W1 = np.random.randn(input_size, hidden_size) * 0.01\n",
    "        self.b1 = np.zeros(hidden_size)\n",
    "        self.W2 = np.random.randn(hidden_size, output_size) * 0.01\n",
    "        self.b2 = np.zeros(output_size)\n",
    "        # ========== YOUR CODE ENDS HERE ============\n",
    "\n",
    "        # Store the intermediate results with these variables during each forward.\n",
    "        # They will be used for back-propagation.\n",
    "        # z1: output from the first fully-connected layer\n",
    "        # a1: relu activation with z1\n",
    "        # z2: output from the second fully-connected layer\n",
    "        # a2: final output after softmax\n",
    "        self.z1 = None\n",
    "        self.a1 = None\n",
    "        self.z2 = None\n",
    "        self.a2 = None\n",
    "\n",
    "    def relu(self, x):\n",
    "        # ReLU activation function. (1pt)\n",
    "        # ========== YOUR CODE STARTS HERE ==========\n",
    "        return np.maximum(0, x)\n",
    "        # ========== YOUR CODE ENDS HERE ============\n",
    "\n",
    "    def softmax(self, x):\n",
    "        # Softmax activation function. (2pt)\n",
    "        # ========== YOUR CODE STARTS HERE ==========\n",
    "        exp_x = np.exp(x - np.max(x, axis = 1, keepdims = True))\n",
    "        return exp_x / np.sum(exp_x, axis = 1, keepdims = True)\n",
    "        # ========== YOUR CODE ENDS HERE ============\n",
    "\n",
    "    def forward(self, x):\n",
    "        # Forward pass through the network. (4pts)\n",
    "        # ========== YOUR CODE STARTS HERE ==========\n",
    "        self.z1 = np.dot(x, self.W1) + self.b1\n",
    "        self.a1 = self.relu(self.z1)\n",
    "        self.z2 = np.dot(self.a1, self.W2) + self.b2\n",
    "        self.a2 = self.softmax(self.z2)\n",
    "        # ========== YOUR CODE ENDS HERE ============\n",
    "\n",
    "        return self.a2"
   ]
  },
  {
   "cell_type": "code",
   "execution_count": 192,
   "metadata": {},
   "outputs": [],
   "source": [
    "dummy_model = FullyConnectedNetwork(4, 16, 8)\n",
    "dummy_model.W1[:] = 2\n",
    "dummy_model.b1[:] = 3\n",
    "dummy_model.W2[:] = 4\n",
    "dummy_model.b2[:] = 5\n",
    "dummy_input = np.ones((2, 4))\n",
    "\n",
    "dummy_pred = dummy_model.forward(dummy_input)"
   ]
  },
  {
   "cell_type": "code",
   "execution_count": 193,
   "metadata": {},
   "outputs": [
    {
     "name": "stdout",
     "output_type": "stream",
     "text": [
      "Dummy pred: [[0.125 0.125 0.125 0.125 0.125 0.125 0.125 0.125]\n",
      " [0.125 0.125 0.125 0.125 0.125 0.125 0.125 0.125]]\n"
     ]
    }
   ],
   "source": [
    "assert float(dummy_pred.mean()) == 0.125, dummy_pred\n",
    "print(\"Dummy pred:\", dummy_pred)"
   ]
  },
  {
   "cell_type": "markdown",
   "metadata": {},
   "source": [
    "## Optimization Targets (11pts)"
   ]
  },
  {
   "cell_type": "markdown",
   "metadata": {},
   "source": [
    "### Cross-Entrophy Loss (2pt)"
   ]
  },
  {
   "cell_type": "code",
   "execution_count": 194,
   "metadata": {},
   "outputs": [],
   "source": [
    "def cross_entropy_loss(y_pred, y_true):\n",
    "    # Compute the cross-entropy loss. (2pts)\n",
    "    # Remember to normalize the loss value with the current batch size\n",
    "    # so that the batch size won't affect the loss's magnitude.\n",
    "    # ========== YOUR CODE STARTS HERE ==========\n",
    "    m = y_pred.shape[0]\n",
    "    correct_logprobs = -np.log(y_pred[np.arange(m), y_true] + 1e-8)\n",
    "    loss = np.sum(correct_logprobs) / m\n",
    "    return loss\n",
    "    # ========== YOUR CODE ENDS HERE ============"
   ]
  },
  {
   "cell_type": "code",
   "execution_count": 195,
   "metadata": {},
   "outputs": [
    {
     "name": "stdout",
     "output_type": "stream",
     "text": [
      "Dummy loss: 1.5106083901402336\n"
     ]
    }
   ],
   "source": [
    "dummy_pred = np.arange(20).reshape(5, 4).astype(\"float\")\n",
    "dummy_pred /= dummy_pred.sum(1, keepdims=True)\n",
    "\n",
    "dummy_true = np.ones(5).astype(\"int\")\n",
    "dummy_loss = cross_entropy_loss(dummy_pred, dummy_true)\n",
    "assert round(float(dummy_loss), 1) == 1.5, dummy_loss\n",
    "print(\"Dummy loss:\", dummy_loss)"
   ]
  },
  {
   "cell_type": "markdown",
   "metadata": {},
   "source": [
    "### Back-Propagation for Cross-Entrophy Loss (5pts)"
   ]
  },
  {
   "cell_type": "code",
   "execution_count": 196,
   "metadata": {},
   "outputs": [],
   "source": [
    "def cross_entropy_backward(y_pred, y_true, x, model):\n",
    "    # Compute gradients for the cross-entropy loss with respect to the model parameters. (10pts)\n",
    "    # ========== YOUR CODE STARTS HERE ==========\n",
    "    m = x.shape[0]\n",
    "    grad_z2 = y_pred.copy()\n",
    "    grad_z2[np.arange(m), y_true] -= 1\n",
    "    grad_z2 /= m\n",
    "    \n",
    "    dW2 = np.dot(model.a1.T, grad_z2)\n",
    "    db2 = np.sum(grad_z2, axis = 0)\n",
    "    grad_a1 = np.dot(grad_z2, model.W2.T)\n",
    "    grad_z1 = grad_a1 * (model.z1 > 0)\n",
    "    dW1 = np.dot(x.T, grad_z1)\n",
    "    db1 = np.sum(grad_z1, axis = 0)\n",
    "    # ========== YOUR CODE ENDS HERE ============\n",
    "    return dW1, db1, dW2, db2"
   ]
  },
  {
   "cell_type": "code",
   "execution_count": 197,
   "metadata": {},
   "outputs": [],
   "source": [
    "dummy_model = FullyConnectedNetwork(4, 16, 8)\n",
    "dummy_model.W1[:] = 2\n",
    "dummy_model.b1[:] = 3\n",
    "dummy_model.W2[:] = 4\n",
    "dummy_model.b2[:] = 5\n",
    "dummy_input = np.ones((2, 4))\n",
    "\n",
    "dummy_pred = dummy_model.forward(dummy_input)\n",
    "dummy_true = np.ones(2).astype(\"int\")\n",
    "dummy_grads = cross_entropy_backward(dummy_pred, dummy_true, dummy_input, dummy_model)"
   ]
  },
  {
   "cell_type": "code",
   "execution_count": 198,
   "metadata": {},
   "outputs": [
    {
     "data": {
      "text/plain": [
       "np.float64(0.0)"
      ]
     },
     "execution_count": 198,
     "metadata": {},
     "output_type": "execute_result"
    }
   ],
   "source": [
    "dummy_grads[3].mean()"
   ]
  },
  {
   "cell_type": "code",
   "execution_count": 199,
   "metadata": {},
   "outputs": [
    {
     "name": "stdout",
     "output_type": "stream",
     "text": [
      "Dummy gradients: (array([[0., 0., 0., 0., 0., 0., 0., 0., 0., 0., 0., 0., 0., 0., 0., 0.],\n",
      "       [0., 0., 0., 0., 0., 0., 0., 0., 0., 0., 0., 0., 0., 0., 0., 0.],\n",
      "       [0., 0., 0., 0., 0., 0., 0., 0., 0., 0., 0., 0., 0., 0., 0., 0.],\n",
      "       [0., 0., 0., 0., 0., 0., 0., 0., 0., 0., 0., 0., 0., 0., 0., 0.]]), array([0., 0., 0., 0., 0., 0., 0., 0., 0., 0., 0., 0., 0., 0., 0., 0.]), array([[ 1.375, -9.625,  1.375,  1.375,  1.375,  1.375,  1.375,  1.375],\n",
      "       [ 1.375, -9.625,  1.375,  1.375,  1.375,  1.375,  1.375,  1.375],\n",
      "       [ 1.375, -9.625,  1.375,  1.375,  1.375,  1.375,  1.375,  1.375],\n",
      "       [ 1.375, -9.625,  1.375,  1.375,  1.375,  1.375,  1.375,  1.375],\n",
      "       [ 1.375, -9.625,  1.375,  1.375,  1.375,  1.375,  1.375,  1.375],\n",
      "       [ 1.375, -9.625,  1.375,  1.375,  1.375,  1.375,  1.375,  1.375],\n",
      "       [ 1.375, -9.625,  1.375,  1.375,  1.375,  1.375,  1.375,  1.375],\n",
      "       [ 1.375, -9.625,  1.375,  1.375,  1.375,  1.375,  1.375,  1.375],\n",
      "       [ 1.375, -9.625,  1.375,  1.375,  1.375,  1.375,  1.375,  1.375],\n",
      "       [ 1.375, -9.625,  1.375,  1.375,  1.375,  1.375,  1.375,  1.375],\n",
      "       [ 1.375, -9.625,  1.375,  1.375,  1.375,  1.375,  1.375,  1.375],\n",
      "       [ 1.375, -9.625,  1.375,  1.375,  1.375,  1.375,  1.375,  1.375],\n",
      "       [ 1.375, -9.625,  1.375,  1.375,  1.375,  1.375,  1.375,  1.375],\n",
      "       [ 1.375, -9.625,  1.375,  1.375,  1.375,  1.375,  1.375,  1.375],\n",
      "       [ 1.375, -9.625,  1.375,  1.375,  1.375,  1.375,  1.375,  1.375],\n",
      "       [ 1.375, -9.625,  1.375,  1.375,  1.375,  1.375,  1.375,  1.375]]), array([ 0.125, -0.875,  0.125,  0.125,  0.125,  0.125,  0.125,  0.125]))\n"
     ]
    }
   ],
   "source": [
    "assert dummy_grads[0].shape == dummy_model.W1.shape, (dummy_grads[0].shape, dummy_model.W1.shape)\n",
    "assert dummy_grads[1].shape == dummy_model.b1.shape, (dummy_grads[1].shape, dummy_model.b1.shape)\n",
    "assert dummy_grads[2].shape == dummy_model.W2.shape, (dummy_grads[2].shape, dummy_model.W2.shape)\n",
    "assert dummy_grads[3].shape == dummy_model.b2.shape, (dummy_grads[3].shape, dummy_model.b2.shape)\n",
    "print(\"Dummy gradients:\", dummy_grads)"
   ]
  },
  {
   "cell_type": "markdown",
   "metadata": {},
   "source": [
    "### L2 Regularization (2pts)"
   ]
  },
  {
   "cell_type": "code",
   "execution_count": 200,
   "metadata": {},
   "outputs": [],
   "source": [
    "def l2_regularization_loss(model, lambda_reg):\n",
    "    # ========== YOUR CODE STARTS HERE ==========\n",
    "    return lambda_reg * (np.sum(model.W1**2) + np.sum(model.W2**2))\n",
    "    # ========== YOUR CODE ENDS HERE ============"
   ]
  },
  {
   "cell_type": "code",
   "execution_count": 201,
   "metadata": {},
   "outputs": [
    {
     "name": "stdout",
     "output_type": "stream",
     "text": [
      "Dummy L2: 2304.0\n"
     ]
    }
   ],
   "source": [
    "dummy_model = FullyConnectedNetwork(4, 16, 8)\n",
    "dummy_model.W1[:] = 2\n",
    "dummy_model.b1[:] = 3\n",
    "dummy_model.W2[:] = 4\n",
    "dummy_model.b2[:] = 5\n",
    "dummy_l2 = l2_regularization_loss(dummy_model, 1.0)\n",
    "assert int(dummy_l2) == 2304, dummy_l2\n",
    "print(\"Dummy L2:\", dummy_l2)"
   ]
  },
  {
   "cell_type": "markdown",
   "metadata": {},
   "source": [
    "### Back-Propagation for L2 Regularization (2pts)"
   ]
  },
  {
   "cell_type": "code",
   "execution_count": 202,
   "metadata": {},
   "outputs": [],
   "source": [
    "def l2_regularization_backward(model, lambda_reg):\n",
    "    # ========== YOUR CODE STARTS HERE ==========\n",
    "    dW1_reg = 2 * lambda_reg * model.W1\n",
    "    dW2_reg = 2 * lambda_reg * model.W2\n",
    "    # ========== YOUR CODE ENDS HERE ============\n",
    "    return dW1_reg, dW2_reg"
   ]
  },
  {
   "cell_type": "code",
   "execution_count": 203,
   "metadata": {},
   "outputs": [],
   "source": [
    "dummy_model = FullyConnectedNetwork(4, 16, 8)\n",
    "dummy_model.W1[:] = 2\n",
    "dummy_model.b1[:] = 3\n",
    "dummy_model.W2[:] = 4\n",
    "dummy_model.b2[:] = 5\n",
    "dummy_l2_grad = l2_regularization_backward(dummy_model, 1.0)"
   ]
  },
  {
   "cell_type": "code",
   "execution_count": 204,
   "metadata": {},
   "outputs": [
    {
     "name": "stdout",
     "output_type": "stream",
     "text": [
      "Dummy gradients: (array([[4., 4., 4., 4., 4., 4., 4., 4., 4., 4., 4., 4., 4., 4., 4., 4.],\n",
      "       [4., 4., 4., 4., 4., 4., 4., 4., 4., 4., 4., 4., 4., 4., 4., 4.],\n",
      "       [4., 4., 4., 4., 4., 4., 4., 4., 4., 4., 4., 4., 4., 4., 4., 4.],\n",
      "       [4., 4., 4., 4., 4., 4., 4., 4., 4., 4., 4., 4., 4., 4., 4., 4.]]), array([[8., 8., 8., 8., 8., 8., 8., 8.],\n",
      "       [8., 8., 8., 8., 8., 8., 8., 8.],\n",
      "       [8., 8., 8., 8., 8., 8., 8., 8.],\n",
      "       [8., 8., 8., 8., 8., 8., 8., 8.],\n",
      "       [8., 8., 8., 8., 8., 8., 8., 8.],\n",
      "       [8., 8., 8., 8., 8., 8., 8., 8.],\n",
      "       [8., 8., 8., 8., 8., 8., 8., 8.],\n",
      "       [8., 8., 8., 8., 8., 8., 8., 8.],\n",
      "       [8., 8., 8., 8., 8., 8., 8., 8.],\n",
      "       [8., 8., 8., 8., 8., 8., 8., 8.],\n",
      "       [8., 8., 8., 8., 8., 8., 8., 8.],\n",
      "       [8., 8., 8., 8., 8., 8., 8., 8.],\n",
      "       [8., 8., 8., 8., 8., 8., 8., 8.],\n",
      "       [8., 8., 8., 8., 8., 8., 8., 8.],\n",
      "       [8., 8., 8., 8., 8., 8., 8., 8.],\n",
      "       [8., 8., 8., 8., 8., 8., 8., 8.]]))\n"
     ]
    }
   ],
   "source": [
    "assert dummy_l2_grad[0].shape == dummy_model.W1.shape, (dummy_l2_grad[0].shape, dummy_model.W1.shape)\n",
    "assert dummy_l2_grad[1].shape == dummy_model.W2.shape, (dummy_l2_grad[1].shape, dummy_model.W2.shape)\n",
    "print(\"Dummy gradients:\", dummy_l2_grad)"
   ]
  },
  {
   "cell_type": "markdown",
   "metadata": {},
   "source": [
    "## SGD Optimizer (1pt)"
   ]
  },
  {
   "cell_type": "code",
   "execution_count": 205,
   "metadata": {},
   "outputs": [],
   "source": [
    "class SGD:\n",
    "    def __init__(self, learning_rate):\n",
    "        self.learning_rate = learning_rate\n",
    "    \n",
    "    def update(self, params, grads):\n",
    "        updated_params = []\n",
    "        for param, grad in zip(params, grads):\n",
    "            # ========== YOUR CODE STARTS HERE ==========\n",
    "            updated_params.append(param - self.learning_rate * grad)\n",
    "            # ========== YOUR CODE ENDS HERE ============\n",
    "        return updated_params"
   ]
  },
  {
   "cell_type": "markdown",
   "metadata": {},
   "source": [
    "## Trainer (11pts)"
   ]
  },
  {
   "cell_type": "code",
   "execution_count": 206,
   "metadata": {},
   "outputs": [],
   "source": [
    "class Trainer:\n",
    "    def __init__(self, model, optimizer, lambda_reg=0.0):\n",
    "        self.model = model\n",
    "        self.optimizer = optimizer\n",
    "        self.lambda_reg = lambda_reg\n",
    "\n",
    "    def train(self, x_train, y_train, x_val, y_val, epochs=10, batch_size=32):\n",
    "        losses_train, losses_val = [], []\n",
    "        accs_val = []\n",
    "\n",
    "        num_batches = (x_train.shape[0] + batch_size - 1) // batch_size\n",
    "\n",
    "        for epoch_id in tqdm(range(epochs)):\n",
    "            epoch_loss = 0\n",
    "            # Shuffle the training set before each epoch (2pts)\n",
    "            # ========== YOUR CODE STARTS HERE ==========\n",
    "            indices = np.arange(x_train.shape[0])\n",
    "            np.random.shuffle(indices)\n",
    "            x_train = x_train[indices]\n",
    "            y_train = y_train[indices]\n",
    "            # ========== YOUR CODE ENDS HERE ============\n",
    "\n",
    "            for batch in range(num_batches):\n",
    "                # Get the batch data (1pt)\n",
    "                # ========== YOUR CODE STARTS HERE ==========\n",
    "                start = batch * batch_size\n",
    "                end = start + batch_size\n",
    "                x_batch = x_train[start:end]\n",
    "                y_batch = y_train[start:end]\n",
    "                # ========== YOUR CODE ENDS HERE ============\n",
    "\n",
    "                # Apply augmentation and normalization (1pt)\n",
    "                # ========== YOUR CODE STARTS HERE ==========\n",
    "                x_batch = augment_images(x_batch)\n",
    "                x_batch = normalize_images(x_batch)\n",
    "                # ========== YOUR CODE ENDS HERE ============\n",
    "\n",
    "                x_batch = x_batch.reshape(x_batch.shape[0], -1)\n",
    "                y_pred = self.model.forward(x_batch)\n",
    "                loss = cross_entropy_loss(y_pred, y_batch)\n",
    "\n",
    "                if self.lambda_reg > 0:\n",
    "                    # Add l2 regularization to the loss (1pt)\n",
    "                    # ========== YOUR CODE STARTS HERE ==========\n",
    "                    loss += l2_regularization_loss(self.model, self.lambda_reg)\n",
    "                    # ========== YOUR CODE ENDS HERE ============\n",
    "\n",
    "                # Compute gradient from Cross-Entrophy Loss (1pt)\n",
    "                # ========== YOUR CODE STARTS HERE ==========\n",
    "                dW1, db1, dW2, db2 = cross_entropy_backward(y_pred, y_batch, x_batch, self.model)\n",
    "                # ========== YOUR CODE ENDS HERE ============\n",
    "\n",
    "                if self.lambda_reg > 0:\n",
    "                    # Add L2 gradients if regularization is applied (1pt)\n",
    "                    # ========== YOUR CODE STARTS HERE ==========\n",
    "                    dW1_reg, dW2_reg = l2_regularization_backward(self.model, self.lambda_reg)\n",
    "                    dW1 += dW1_reg\n",
    "                    dW2 += dW2_reg\n",
    "                    # ========== YOUR CODE ENDS HERE ============\n",
    "\n",
    "                # Update parameters using the optimizer (1pt)\n",
    "                # ========== YOUR CODE STARTS HERE ==========\n",
    "                updated_params = self.optimizer.update(\n",
    "                    [self.model.W1, self.model.b1, self.model.W2, self.model.b2],\n",
    "                    [dW1, db1, dW2, db2]\n",
    "                )\n",
    "                self.model.W1, self.model.b1, self.model.W2, self.model.b2 = updated_params\n",
    "                # ========== YOUR CODE ENDS HERE ============\n",
    "\n",
    "                epoch_loss += loss\n",
    "\n",
    "            # Print epoch statistics\n",
    "            loss_train = epoch_loss / num_batches\n",
    "            loss_val, acc_val = self.evaluate(x_val, y_val)\n",
    "            losses_train.append(loss_train)\n",
    "            losses_val.append(loss_val)\n",
    "            accs_val.append(acc_val)\n",
    "            print(f\"Epoch {epoch_id + 1}/{epochs}, Training Loss: {loss:.4f}, Validation Loss: {loss_val:.4f}, Validation ACC: {acc_val:.4f}\")\n",
    "\n",
    "        return losses_train, losses_val, accs_val\n",
    "\n",
    "    def evaluate(self, x, y):\n",
    "        # Only do normalization when testing on validation or test set (1pt)\n",
    "        # ========== YOUR CODE STARTS HERE ==========\n",
    "        x = normalize_images(x)\n",
    "        # ========== YOUR CODE ENDS HERE ============\n",
    "\n",
    "        x = x.reshape(x.shape[0], -1)\n",
    "        y_pred = self.model.forward(x)\n",
    "\n",
    "        # Compute Cross-Entrophy Loss and L2 Regularization if needed (1pt)\n",
    "        # ========== YOUR CODE STARTS HERE ==========\n",
    "        loss = cross_entropy_loss(y_pred, y)\n",
    "        if self.lambda_reg > 0:\n",
    "            loss += l2_regularization_loss(self.model, self.lambda_reg)\n",
    "        # ========== YOUR CODE ENDS HERE ============\n",
    "\n",
    "        # Compute accuracy (1pt)\n",
    "        # ========== YOUR CODE STARTS HERE ==========\n",
    "        acc = np.mean(np.argmax(y_pred, axis = 1) == y)\n",
    "        # ========== YOUR CODE ENDS HERE ============\n",
    "\n",
    "        return loss, acc"
   ]
  },
  {
   "cell_type": "markdown",
   "metadata": {},
   "source": [
    "## Training (7pts)"
   ]
  },
  {
   "cell_type": "markdown",
   "metadata": {},
   "source": [
    "### Model Definition"
   ]
  },
  {
   "cell_type": "code",
   "execution_count": 207,
   "metadata": {},
   "outputs": [],
   "source": [
    "hidden_size = 128\n",
    "\n",
    "# define input size and output size (1pt)\n",
    "# ========== YOUR CODE STARTS HERE ==========\n",
    "input_size = 28 * 28\n",
    "output_size = 10\n",
    "# ========== YOUR CODE ENDS HERE ============\n",
    "\n",
    "model = FullyConnectedNetwork(input_size, hidden_size, output_size)"
   ]
  },
  {
   "cell_type": "markdown",
   "metadata": {},
   "source": [
    "### Hyper-Parameters (6pts)\n",
    "\n",
    "You need to reach an final ACC > 0.9 on the test set to get points for this part."
   ]
  },
  {
   "cell_type": "code",
   "execution_count": 208,
   "metadata": {},
   "outputs": [],
   "source": [
    "# ========== YOUR CODE STARTS HERE ==========\n",
    "lr = 0.1\n",
    "lambda_reg = 0.001\n",
    "epochs = 10\n",
    "batch_size = 64\n",
    "# ========== YOUR CODE ENDS HERE ============"
   ]
  },
  {
   "cell_type": "code",
   "execution_count": 209,
   "metadata": {},
   "outputs": [],
   "source": [
    "optimizer = SGD(learning_rate=lr)\n",
    "trainer = Trainer(model, optimizer, lambda_reg=lambda_reg)"
   ]
  },
  {
   "cell_type": "code",
   "execution_count": 210,
   "metadata": {},
   "outputs": [
    {
     "name": "stderr",
     "output_type": "stream",
     "text": [
      " 10%|█████████▍                                                                                    | 1/10 [00:00<00:05,  1.53it/s]"
     ]
    },
    {
     "name": "stdout",
     "output_type": "stream",
     "text": [
      "Epoch 1/10, Training Loss: 0.9610, Validation Loss: 0.7497, Validation ACC: 0.7665\n"
     ]
    },
    {
     "name": "stderr",
     "output_type": "stream",
     "text": [
      " 20%|██████████████████▊                                                                           | 2/10 [00:01<00:05,  1.54it/s]"
     ]
    },
    {
     "name": "stdout",
     "output_type": "stream",
     "text": [
      "Epoch 2/10, Training Loss: 0.4305, Validation Loss: 0.5803, Validation ACC: 0.8428\n"
     ]
    },
    {
     "name": "stderr",
     "output_type": "stream",
     "text": [
      " 30%|████████████████████████████▏                                                                 | 3/10 [00:01<00:04,  1.56it/s]"
     ]
    },
    {
     "name": "stdout",
     "output_type": "stream",
     "text": [
      "Epoch 3/10, Training Loss: 0.3281, Validation Loss: 0.4376, Validation ACC: 0.8929\n"
     ]
    },
    {
     "name": "stderr",
     "output_type": "stream",
     "text": [
      " 40%|█████████████████████████████████████▌                                                        | 4/10 [00:02<00:03,  1.57it/s]"
     ]
    },
    {
     "name": "stdout",
     "output_type": "stream",
     "text": [
      "Epoch 4/10, Training Loss: 0.2414, Validation Loss: 0.3876, Validation ACC: 0.9198\n"
     ]
    },
    {
     "name": "stderr",
     "output_type": "stream",
     "text": [
      " 50%|███████████████████████████████████████████████                                               | 5/10 [00:03<00:03,  1.58it/s]"
     ]
    },
    {
     "name": "stdout",
     "output_type": "stream",
     "text": [
      "Epoch 5/10, Training Loss: 0.4860, Validation Loss: 0.4402, Validation ACC: 0.8994\n"
     ]
    },
    {
     "name": "stderr",
     "output_type": "stream",
     "text": [
      " 60%|████████████████████████████████████████████████████████▍                                     | 6/10 [00:03<00:02,  1.58it/s]"
     ]
    },
    {
     "name": "stdout",
     "output_type": "stream",
     "text": [
      "Epoch 6/10, Training Loss: 0.4263, Validation Loss: 0.8151, Validation ACC: 0.7949\n"
     ]
    },
    {
     "name": "stderr",
     "output_type": "stream",
     "text": [
      " 70%|█████████████████████████████████████████████████████████████████▊                            | 7/10 [00:04<00:01,  1.59it/s]"
     ]
    },
    {
     "name": "stdout",
     "output_type": "stream",
     "text": [
      "Epoch 7/10, Training Loss: 0.3606, Validation Loss: 0.3998, Validation ACC: 0.9152\n"
     ]
    },
    {
     "name": "stderr",
     "output_type": "stream",
     "text": [
      " 80%|███████████████████████████████████████████████████████████████████████████▏                  | 8/10 [00:05<00:01,  1.58it/s]"
     ]
    },
    {
     "name": "stdout",
     "output_type": "stream",
     "text": [
      "Epoch 8/10, Training Loss: 0.5986, Validation Loss: 0.4096, Validation ACC: 0.9144\n"
     ]
    },
    {
     "name": "stderr",
     "output_type": "stream",
     "text": [
      " 90%|████████████████████████████████████████████████████████████████████████████████████▌         | 9/10 [00:05<00:00,  1.59it/s]"
     ]
    },
    {
     "name": "stdout",
     "output_type": "stream",
     "text": [
      "Epoch 9/10, Training Loss: 0.4426, Validation Loss: 0.4118, Validation ACC: 0.9170\n"
     ]
    },
    {
     "name": "stderr",
     "output_type": "stream",
     "text": [
      "100%|█████████████████████████████████████████████████████████████████████████████████████████████| 10/10 [00:06<00:00,  1.58it/s]"
     ]
    },
    {
     "name": "stdout",
     "output_type": "stream",
     "text": [
      "Epoch 10/10, Training Loss: 0.3130, Validation Loss: 0.3805, Validation ACC: 0.9285\n"
     ]
    },
    {
     "name": "stderr",
     "output_type": "stream",
     "text": [
      "\n"
     ]
    }
   ],
   "source": [
    "losses_train, losses_val, accs_val = trainer.train(x_train, y_train, x_val=x_val, y_val=y_val, epochs=epochs, batch_size=batch_size)"
   ]
  },
  {
   "cell_type": "code",
   "execution_count": 211,
   "metadata": {},
   "outputs": [
    {
     "data": {
      "image/png": "[encoded data removed]",
      "text/plain": [
       "<Figure size 1200x500 with 2 Axes>"
      ]
     },
     "metadata": {},
     "output_type": "display_data"
    }
   ],
   "source": [
    "fig, axes = plt.subplots(ncols=2, figsize=(12, 5))\n",
    "\n",
    "axes[0].plot(np.arange(epochs), losses_train, label=\"Train loss\")\n",
    "axes[0].plot(np.arange(epochs), losses_val, label=\"Val loss\")\n",
    "axes[0].set_title(\"Train + Validation Loss\")\n",
    "axes[0].set_xlabel(\"Epoch\")\n",
    "axes[0].set_ylabel(\"Loss\")\n",
    "axes[0].legend()\n",
    "\n",
    "axes[1].plot(np.arange(epochs), accs_val, label=\"Val ACC\")\n",
    "axes[1].set_title(\"Validation Accuracy\")\n",
    "axes[1].set_xlabel(\"Epoch\")\n",
    "axes[1].set_ylabel(\"ACC\")\n",
    "axes[1].legend()\n",
    "\n",
    "plt.tight_layout()\n",
    "plt.show()"
   ]
  },
  {
   "cell_type": "markdown",
   "metadata": {},
   "source": [
    "### Evaluation on Test Set"
   ]
  },
  {
   "cell_type": "code",
   "execution_count": 212,
   "metadata": {},
   "outputs": [
    {
     "name": "stdout",
     "output_type": "stream",
     "text": [
      "Test Loss: 0.3772692411332635\n",
      "Test ACC: 0.9274\n"
     ]
    }
   ],
   "source": [
    "loss_test, loss_acc = trainer.evaluate(x_test, y_test)\n",
    "print(f\"Test Loss: {loss_test}\")\n",
    "print(f\"Test ACC: {loss_acc}\")"
   ]
  },
  {
   "cell_type": "markdown",
   "metadata": {},
   "source": [
    "## Training with SGD + Momentum (9pts)"
   ]
  },
  {
   "cell_type": "markdown",
   "metadata": {},
   "source": [
    "### SGD + Momentum (4pt)"
   ]
  },
  {
   "cell_type": "code",
   "execution_count": 213,
   "metadata": {},
   "outputs": [],
   "source": [
    "class SGDMomentum:\n",
    "    def __init__(self, learning_rate, momentum=0.9):\n",
    "        self.learning_rate = learning_rate\n",
    "        self.momentum = momentum\n",
    "        self.velocity = {}\n",
    "\n",
    "    def update(self, params, grads):\n",
    "        updated_params = []\n",
    "        for i, (param, grad) in enumerate(zip(params, grads)):\n",
    "            # ========== YOUR CODE STARTS HERE ==========\n",
    "            if i not in self.velocity:\n",
    "                self.velocity[i] = np.zeros_like(grad)\n",
    "            self.velocity[i] = self.momentum * self.velocity[i] - self.learning_rate * grad\n",
    "            updated_params.append(param + self.velocity[i])\n",
    "            # ========== YOUR CODE ENDS HERE ============\n",
    "\n",
    "        return updated_params"
   ]
  },
  {
   "cell_type": "markdown",
   "metadata": {},
   "source": [
    "### Hyper-Parameters (5pts)\n",
    "\n",
    "You need to reach an final ACC > 0.9 on the test set to get points for this part."
   ]
  },
  {
   "cell_type": "code",
   "execution_count": 214,
   "metadata": {},
   "outputs": [],
   "source": [
    "# ========== YOUR CODE STARTS HERE ==========\n",
    "lr = 0.05\n",
    "lambda_reg = 0.0001\n",
    "epochs = 30\n",
    "batch_size = 64\n",
    "# ========== YOUR CODE ENDS HERE ============"
   ]
  },
  {
   "cell_type": "code",
   "execution_count": 215,
   "metadata": {},
   "outputs": [],
   "source": [
    "model = FullyConnectedNetwork(input_size, hidden_size, output_size)\n",
    "optimizer = SGDMomentum(learning_rate=lr)\n",
    "trainer = Trainer(model, optimizer, lambda_reg=lambda_reg)"
   ]
  },
  {
   "cell_type": "code",
   "execution_count": 216,
   "metadata": {},
   "outputs": [
    {
     "name": "stderr",
     "output_type": "stream",
     "text": [
      "  3%|███▏                                                                                          | 1/30 [00:00<00:21,  1.37it/s]"
     ]
    },
    {
     "name": "stdout",
     "output_type": "stream",
     "text": [
      "Epoch 1/30, Training Loss: 0.5026, Validation Loss: 0.3892, Validation ACC: 0.8817\n"
     ]
    },
    {
     "name": "stderr",
     "output_type": "stream",
     "text": [
      "  7%|██████▎                                                                                       | 2/30 [00:01<00:20,  1.38it/s]"
     ]
    },
    {
     "name": "stdout",
     "output_type": "stream",
     "text": [
      "Epoch 2/30, Training Loss: 0.2633, Validation Loss: 0.2644, Validation ACC: 0.9320\n"
     ]
    },
    {
     "name": "stderr",
     "output_type": "stream",
     "text": [
      " 10%|█████████▍                                                                                    | 3/30 [00:02<00:19,  1.40it/s]"
     ]
    },
    {
     "name": "stdout",
     "output_type": "stream",
     "text": [
      "Epoch 3/30, Training Loss: 0.1669, Validation Loss: 0.2391, Validation ACC: 0.9426\n"
     ]
    },
    {
     "name": "stderr",
     "output_type": "stream",
     "text": [
      " 13%|████████████▌                                                                                 | 4/30 [00:02<00:18,  1.40it/s]"
     ]
    },
    {
     "name": "stdout",
     "output_type": "stream",
     "text": [
      "Epoch 4/30, Training Loss: 0.1650, Validation Loss: 0.3294, Validation ACC: 0.9171\n"
     ]
    },
    {
     "name": "stderr",
     "output_type": "stream",
     "text": [
      " 17%|███████████████▋                                                                              | 5/30 [00:03<00:17,  1.41it/s]"
     ]
    },
    {
     "name": "stdout",
     "output_type": "stream",
     "text": [
      "Epoch 5/30, Training Loss: 0.3535, Validation Loss: 0.2621, Validation ACC: 0.9389\n"
     ]
    },
    {
     "name": "stderr",
     "output_type": "stream",
     "text": [
      " 20%|██████████████████▊                                                                           | 6/30 [00:04<00:17,  1.40it/s]"
     ]
    },
    {
     "name": "stdout",
     "output_type": "stream",
     "text": [
      "Epoch 6/30, Training Loss: 0.0644, Validation Loss: 0.2705, Validation ACC: 0.9358\n"
     ]
    },
    {
     "name": "stderr",
     "output_type": "stream",
     "text": [
      " 23%|█████████████████████▉                                                                        | 7/30 [00:05<00:16,  1.40it/s]"
     ]
    },
    {
     "name": "stdout",
     "output_type": "stream",
     "text": [
      "Epoch 7/30, Training Loss: 0.1988, Validation Loss: 0.2296, Validation ACC: 0.9512\n"
     ]
    },
    {
     "name": "stderr",
     "output_type": "stream",
     "text": [
      " 27%|█████████████████████████                                                                     | 8/30 [00:05<00:15,  1.39it/s]"
     ]
    },
    {
     "name": "stdout",
     "output_type": "stream",
     "text": [
      "Epoch 8/30, Training Loss: 0.2402, Validation Loss: 0.2367, Validation ACC: 0.9481\n"
     ]
    },
    {
     "name": "stderr",
     "output_type": "stream",
     "text": [
      " 30%|████████████████████████████▏                                                                 | 9/30 [00:06<00:14,  1.40it/s]"
     ]
    },
    {
     "name": "stdout",
     "output_type": "stream",
     "text": [
      "Epoch 9/30, Training Loss: 0.1657, Validation Loss: 0.2248, Validation ACC: 0.9544\n"
     ]
    },
    {
     "name": "stderr",
     "output_type": "stream",
     "text": [
      " 33%|███████████████████████████████                                                              | 10/30 [00:07<00:14,  1.40it/s]"
     ]
    },
    {
     "name": "stdout",
     "output_type": "stream",
     "text": [
      "Epoch 10/30, Training Loss: 0.0757, Validation Loss: 0.2170, Validation ACC: 0.9559\n"
     ]
    },
    {
     "name": "stderr",
     "output_type": "stream",
     "text": [
      " 37%|██████████████████████████████████                                                           | 11/30 [00:07<00:13,  1.40it/s]"
     ]
    },
    {
     "name": "stdout",
     "output_type": "stream",
     "text": [
      "Epoch 11/30, Training Loss: 0.1872, Validation Loss: 0.2539, Validation ACC: 0.9453\n"
     ]
    },
    {
     "name": "stderr",
     "output_type": "stream",
     "text": [
      " 40%|█████████████████████████████████████▏                                                       | 12/30 [00:08<00:12,  1.40it/s]"
     ]
    },
    {
     "name": "stdout",
     "output_type": "stream",
     "text": [
      "Epoch 12/30, Training Loss: 0.1275, Validation Loss: 0.2588, Validation ACC: 0.9429\n"
     ]
    },
    {
     "name": "stderr",
     "output_type": "stream",
     "text": [
      " 43%|████████████████████████████████████████▎                                                    | 13/30 [00:09<00:12,  1.40it/s]"
     ]
    },
    {
     "name": "stdout",
     "output_type": "stream",
     "text": [
      "Epoch 13/30, Training Loss: 0.1959, Validation Loss: 0.2291, Validation ACC: 0.9537\n"
     ]
    },
    {
     "name": "stderr",
     "output_type": "stream",
     "text": [
      " 47%|███████████████████████████████████████████▍                                                 | 14/30 [00:10<00:11,  1.39it/s]"
     ]
    },
    {
     "name": "stdout",
     "output_type": "stream",
     "text": [
      "Epoch 14/30, Training Loss: 0.0830, Validation Loss: 0.2222, Validation ACC: 0.9559\n"
     ]
    },
    {
     "name": "stderr",
     "output_type": "stream",
     "text": [
      " 50%|██████████████████████████████████████████████▌                                              | 15/30 [00:10<00:10,  1.39it/s]"
     ]
    },
    {
     "name": "stdout",
     "output_type": "stream",
     "text": [
      "Epoch 15/30, Training Loss: 0.1347, Validation Loss: 0.2272, Validation ACC: 0.9537\n"
     ]
    },
    {
     "name": "stderr",
     "output_type": "stream",
     "text": [
      " 53%|█████████████████████████████████████████████████▌                                           | 16/30 [00:11<00:10,  1.39it/s]"
     ]
    },
    {
     "name": "stdout",
     "output_type": "stream",
     "text": [
      "Epoch 16/30, Training Loss: 0.1526, Validation Loss: 0.2611, Validation ACC: 0.9431\n"
     ]
    },
    {
     "name": "stderr",
     "output_type": "stream",
     "text": [
      " 57%|████████████████████████████████████████████████████▋                                        | 17/30 [00:12<00:09,  1.39it/s]"
     ]
    },
    {
     "name": "stdout",
     "output_type": "stream",
     "text": [
      "Epoch 17/30, Training Loss: 0.1041, Validation Loss: 0.2315, Validation ACC: 0.9536\n"
     ]
    },
    {
     "name": "stderr",
     "output_type": "stream",
     "text": [
      " 60%|███████████████████████████████████████████████████████▊                                     | 18/30 [00:12<00:08,  1.39it/s]"
     ]
    },
    {
     "name": "stdout",
     "output_type": "stream",
     "text": [
      "Epoch 18/30, Training Loss: 0.2094, Validation Loss: 0.2684, Validation ACC: 0.9418\n"
     ]
    },
    {
     "name": "stderr",
     "output_type": "stream",
     "text": [
      " 63%|██████████████████████████████████████████████████████████▉                                  | 19/30 [00:13<00:07,  1.39it/s]"
     ]
    },
    {
     "name": "stdout",
     "output_type": "stream",
     "text": [
      "Epoch 19/30, Training Loss: 0.0878, Validation Loss: 0.2239, Validation ACC: 0.9584\n"
     ]
    },
    {
     "name": "stderr",
     "output_type": "stream",
     "text": [
      " 67%|██████████████████████████████████████████████████████████████                               | 20/30 [00:14<00:07,  1.39it/s]"
     ]
    },
    {
     "name": "stdout",
     "output_type": "stream",
     "text": [
      "Epoch 20/30, Training Loss: 0.0909, Validation Loss: 0.2395, Validation ACC: 0.9529\n"
     ]
    },
    {
     "name": "stderr",
     "output_type": "stream",
     "text": [
      " 70%|█████████████████████████████████████████████████████████████████                            | 21/30 [00:15<00:06,  1.39it/s]"
     ]
    },
    {
     "name": "stdout",
     "output_type": "stream",
     "text": [
      "Epoch 21/30, Training Loss: 0.0841, Validation Loss: 0.2242, Validation ACC: 0.9587\n"
     ]
    },
    {
     "name": "stderr",
     "output_type": "stream",
     "text": [
      " 73%|████████████████████████████████████████████████████████████████████▏                        | 22/30 [00:15<00:05,  1.39it/s]"
     ]
    },
    {
     "name": "stdout",
     "output_type": "stream",
     "text": [
      "Epoch 22/30, Training Loss: 0.6638, Validation Loss: 0.2320, Validation ACC: 0.9532\n"
     ]
    },
    {
     "name": "stderr",
     "output_type": "stream",
     "text": [
      " 77%|███████████████████████████████████████████████████████████████████████▎                     | 23/30 [00:16<00:05,  1.38it/s]"
     ]
    },
    {
     "name": "stdout",
     "output_type": "stream",
     "text": [
      "Epoch 23/30, Training Loss: 0.0926, Validation Loss: 0.2363, Validation ACC: 0.9542\n"
     ]
    },
    {
     "name": "stderr",
     "output_type": "stream",
     "text": [
      " 80%|██████████████████████████████████████████████████████████████████████████▍                  | 24/30 [00:17<00:04,  1.38it/s]"
     ]
    },
    {
     "name": "stdout",
     "output_type": "stream",
     "text": [
      "Epoch 24/30, Training Loss: 0.3203, Validation Loss: 0.2268, Validation ACC: 0.9561\n"
     ]
    },
    {
     "name": "stderr",
     "output_type": "stream",
     "text": [
      " 83%|█████████████████████████████████████████████████████████████████████████████▌               | 25/30 [00:17<00:03,  1.38it/s]"
     ]
    },
    {
     "name": "stdout",
     "output_type": "stream",
     "text": [
      "Epoch 25/30, Training Loss: 0.2079, Validation Loss: 0.2412, Validation ACC: 0.9529\n"
     ]
    },
    {
     "name": "stderr",
     "output_type": "stream",
     "text": [
      " 87%|████████████████████████████████████████████████████████████████████████████████▌            | 26/30 [00:18<00:02,  1.37it/s]"
     ]
    },
    {
     "name": "stdout",
     "output_type": "stream",
     "text": [
      "Epoch 26/30, Training Loss: 0.3455, Validation Loss: 0.2467, Validation ACC: 0.9479\n"
     ]
    },
    {
     "name": "stderr",
     "output_type": "stream",
     "text": [
      " 90%|███████████████████████████████████████████████████████████████████████████████████▋         | 27/30 [00:19<00:02,  1.22it/s]"
     ]
    },
    {
     "name": "stdout",
     "output_type": "stream",
     "text": [
      "Epoch 27/30, Training Loss: 0.1400, Validation Loss: 0.2153, Validation ACC: 0.9602\n"
     ]
    },
    {
     "name": "stderr",
     "output_type": "stream",
     "text": [
      " 93%|██████████████████████████████████████████████████████████████████████████████████████▊      | 28/30 [00:20<00:01,  1.26it/s]"
     ]
    },
    {
     "name": "stdout",
     "output_type": "stream",
     "text": [
      "Epoch 28/30, Training Loss: 0.1561, Validation Loss: 0.2096, Validation ACC: 0.9627\n"
     ]
    },
    {
     "name": "stderr",
     "output_type": "stream",
     "text": [
      " 97%|█████████████████████████████████████████████████████████████████████████████████████████▉   | 29/30 [00:21<00:00,  1.28it/s]"
     ]
    },
    {
     "name": "stdout",
     "output_type": "stream",
     "text": [
      "Epoch 29/30, Training Loss: 0.1950, Validation Loss: 0.2137, Validation ACC: 0.9606\n"
     ]
    },
    {
     "name": "stderr",
     "output_type": "stream",
     "text": [
      "100%|█████████████████████████████████████████████████████████████████████████████████████████████| 30/30 [00:21<00:00,  1.37it/s]"
     ]
    },
    {
     "name": "stdout",
     "output_type": "stream",
     "text": [
      "Epoch 30/30, Training Loss: 0.0861, Validation Loss: 0.2089, Validation ACC: 0.9604\n"
     ]
    },
    {
     "name": "stderr",
     "output_type": "stream",
     "text": [
      "\n"
     ]
    }
   ],
   "source": [
    "losses_train, losses_val, accs_val = trainer.train(x_train, y_train, x_val=x_val, y_val=y_val, epochs=epochs, batch_size=batch_size)"
   ]
  },
  {
   "cell_type": "code",
   "execution_count": 217,
   "metadata": {},
   "outputs": [
    {
     "data": {
      "image/png": "[encoded data removed]",
      "text/plain": [
       "<Figure size 1200x500 with 2 Axes>"
      ]
     },
     "metadata": {},
     "output_type": "display_data"
    }
   ],
   "source": [
    "fig, axes = plt.subplots(ncols=2, figsize=(12, 5))\n",
    "\n",
    "axes[0].plot(np.arange(epochs), losses_train, label=\"Train loss\")\n",
    "axes[0].plot(np.arange(epochs), losses_val, label=\"Val loss\")\n",
    "axes[0].set_title(\"Train + Validation Loss\")\n",
    "axes[0].set_xlabel(\"Epoch\")\n",
    "axes[0].set_ylabel(\"Loss\")\n",
    "axes[0].legend()\n",
    "\n",
    "axes[1].plot(np.arange(epochs), accs_val, label=\"Val ACC\")\n",
    "axes[1].set_title(\"Validation Accuracy\")\n",
    "axes[1].set_xlabel(\"Epoch\")\n",
    "axes[1].set_ylabel(\"ACC\")\n",
    "axes[1].legend()\n",
    "\n",
    "plt.tight_layout()\n",
    "plt.show()"
   ]
  },
  {
   "cell_type": "markdown",
   "metadata": {},
   "source": [
    "### Evaluation on Test Set"
   ]
  },
  {
   "cell_type": "code",
   "execution_count": 218,
   "metadata": {},
   "outputs": [
    {
     "name": "stdout",
     "output_type": "stream",
     "text": [
      "Test Loss: 0.20924855577488383\n",
      "Test ACC: 0.958\n"
     ]
    }
   ],
   "source": [
    "loss_test, loss_acc = trainer.evaluate(x_test, y_test)\n",
    "print(f\"Test Loss: {loss_test}\")\n",
    "print(f\"Test ACC: {loss_acc}\")"
   ]
  },
  {
   "cell_type": "code",
   "execution_count": null,
   "metadata": {},
   "outputs": [],
   "source": []
  }
 ],
 "metadata": {
  "kernelspec": {
   "display_name": "Python 3 (ipykernel)",
   "language": "python",
   "name": "python3"
  },
  "language_info": {
   "codemirror_mode": {
    "name": "ipython",
    "version": 3
   },
   "file_extension": ".py",
   "mimetype": "text/x-python",
   "name": "python",
   "nbconvert_exporter": "python",
   "pygments_lexer": "ipython3",
   "version": "3.12.3"
  }
 },
 "nbformat": 4,
 "nbformat_minor": 4
}
